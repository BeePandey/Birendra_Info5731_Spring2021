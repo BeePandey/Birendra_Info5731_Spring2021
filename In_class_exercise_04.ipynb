{
  "nbformat": 4,
  "nbformat_minor": 0,
  "metadata": {
    "colab": {
      "name": "In_class_exercise_04.ipynb",
      "provenance": [],
      "collapsed_sections": [],
      "include_colab_link": true
    },
    "kernelspec": {
      "display_name": "Python 3",
      "language": "python",
      "name": "python3"
    },
    "language_info": {
      "codemirror_mode": {
        "name": "ipython",
        "version": 3
      },
      "file_extension": ".py",
      "mimetype": "text/x-python",
      "name": "python",
      "nbconvert_exporter": "python",
      "pygments_lexer": "ipython3",
      "version": "3.8.5"
    }
  },
  "cells": [
    {
      "cell_type": "markdown",
      "metadata": {
        "id": "view-in-github",
        "colab_type": "text"
      },
      "source": [
        "<a href=\"https://colab.research.google.com/github/BeePandey/Birendra_Info5731_Spring2021/blob/main/In_class_exercise_04.ipynb\" target=\"_parent\"><img src=\"https://colab.research.google.com/assets/colab-badge.svg\" alt=\"Open In Colab\"/></a>"
      ]
    },
    {
      "cell_type": "markdown",
      "metadata": {
        "id": "EuX00KHNeSpw"
      },
      "source": [
        "# **The fourth in-class-exercise (20 points in total, 2/9/2021)**"
      ]
    },
    {
      "cell_type": "markdown",
      "metadata": {
        "id": "s-vTOb03hG1f"
      },
      "source": [
        "# 1. Text Data Preprocessing\n",
        "\n",
        "Here is a [legal case](https://github.com/unt-iialab/info5731_spring2021/blob/main/class_exercises/01-05-1%20%20Adams%20v%20Tanner.txt) we collected from westlaw, please follow the steps we mentioned in lesson 5 to clean the data:\n",
        "\n",
        "\n",
        "\n",
        "## 1.1 Basic feature extraction using text data (4 points)\n",
        "\n",
        "*   Number of sentences\n",
        "*   Number of words\n",
        "*   Number of characters\n",
        "*   Average word length\n",
        "*   Number of stopwords\n",
        "*   Number of special characters\n",
        "*   Number of numerics\n",
        "*   Number of uppercase words\n",
        "\n",
        "## 1.2 Basic Text Pre-processing of text data (4 points)\n",
        "\n",
        "*   Lower casing\n",
        "*   Punctuation removal\n",
        "*   Stopwords removal\n",
        "*   Frequent words removal\n",
        "*   Rare words removal\n",
        "*   Spelling correction\n",
        "*   Tokenization\n",
        "*   Stemming\n",
        "*   Lemmatization\n",
        "\n",
        "## 1.3 Save all the **clean sentences** to a **csv file** (one column, each raw is a sentence) after finishing all the steps above. (4 points)\n",
        "\n",
        "\n",
        "## 1.4 Advance Text Processing (Extra credit: 4 points)\n",
        "\n",
        "*   Calculate the term frequency of all the terms.\n",
        "*   Print out top 10 1-gram, top 10 2-grams, and top 10 3-grams terms as features.\n"
      ]
    },
    {
      "cell_type": "code",
      "metadata": {
        "id": "Adh2rtWHj387"
      },
      "source": [
        "\r\n",
        "\r\n",
        "\r\n",
        "from six.moves import urllib\r\n",
        "import pandas as pd\r\n",
        "\r\n",
        "Is_Text = []\r\n",
        "url = \"https://raw.githubusercontent.com/unt-iialab/info5731_spring2021/main/class_exercises/01-05-1%20%20Adams%20v%20Tanner.txt\"\r\n",
        "text_file = urllib.request.urlopen(url)\r\n",
        "\r\n",
        "for line in text_file:\r\n",
        "  Data_changed = line.decode(\"utf-8\").replace('\\r\\n', '')\r\n",
        "  if Data_changed: Is_Text.append(Data_changed)\r\n",
        "df = pd.DataFrame (Is_Text, columns = ['Text'])\r\n",
        "print(df)\r\n",
        "\r\n"
      ],
      "execution_count": null,
      "outputs": []
    },
    {
      "cell_type": "code",
      "metadata": {
        "id": "icM794XL3taY"
      },
      "source": [
        "print('Number of sentences')\r\n",
        "\r\n",
        "df['Number of Sentences'] = df['Text'].apply(lambda x: len(str(x).split(\".\")))\r\n",
        "df[['Number of Sentences']]"
      ],
      "execution_count": null,
      "outputs": []
    },
    {
      "cell_type": "code",
      "metadata": {
        "id": "97ox_dm61Nzl"
      },
      "source": [
        "print('Number of words')\r\n",
        "\r\n",
        "df['Number of Words'] = df['Text'].apply(lambda x: len(str(x).split(\" \")))\r\n",
        "df[['Number of Words']]"
      ],
      "execution_count": null,
      "outputs": []
    },
    {
      "cell_type": "code",
      "metadata": {
        "id": "t4ns4BX8Ajk8"
      },
      "source": [
        "print('Number of characters')\r\n",
        "df['Number of Characters'] = df['Text'].str.len()\r\n",
        "df[['Number of Characters']]"
      ],
      "execution_count": null,
      "outputs": []
    },
    {
      "cell_type": "code",
      "metadata": {
        "id": "rAWjyF4D94wZ"
      },
      "source": [
        "print('Average word length')\r\n",
        "def Is_Average_length(sentence):\r\n",
        "  words = sentence.split()\r\n",
        "  if len(words) != 0:\r\n",
        "    return(sum(len(word) for word in words)/len(words))\r\n",
        "  else:\r\n",
        "    return None\r\n",
        "\r\n",
        "df['Average Word Length'] = df['Text'].apply(lambda x: Is_Average_length(x))\r\n",
        "df[['Average Word Length']]"
      ],
      "execution_count": null,
      "outputs": []
    },
    {
      "cell_type": "code",
      "metadata": {
        "id": "DQWcQZBM-ljU"
      },
      "source": [
        "from nltk.corpus import stopwords\r\n",
        "\r\n",
        "import nltk\r\n",
        "nltk.download('stopwords')\r\n",
        "\r\n",
        "\r\n",
        "Is_stop = stopwords.words('english')\r\n",
        "\r\n",
        "df['Number of Stopwords'] = df['Text'].apply(lambda x: len([x for x in x.split() if x in Is_stop]))\r\n",
        "df['Number of Stopwords']\r\n",
        "\r\n"
      ],
      "execution_count": null,
      "outputs": []
    },
    {
      "cell_type": "code",
      "metadata": {
        "id": "a08uai4y-l_g"
      },
      "source": [
        "print('Number of characters')\r\n",
        "def Is_Special(sentence):\r\n",
        "  specialwords = 0\r\n",
        "  for value in range(len(sentence)):\r\n",
        "    if not((sentence[value].isalpha()) and (sentence[value].isdigit())):\r\n",
        "        specialwords = specialwords + 1\r\n",
        "  return specialwords\r\n",
        "\r\n",
        "df['Number of specialwords characters'] = df['Text'].apply(lambda x: Is_Special(x))\r\n",
        "df[['Number of specialwords characters']]"
      ],
      "execution_count": null,
      "outputs": []
    },
    {
      "cell_type": "code",
      "metadata": {
        "id": "fyyz0Bqq-nQz"
      },
      "source": [
        "print('Number of numerics')\r\n",
        "df['Numbers of numerics'] = df['Text'].apply(lambda x: len([x for x in x.split() if x.isdigit()]))\r\n",
        "df[['Numbers of numerics']]"
      ],
      "execution_count": null,
      "outputs": []
    },
    {
      "cell_type": "code",
      "metadata": {
        "id": "4CAnkbyy-mWM"
      },
      "source": [
        "print('Number of uppercase words')\r\n",
        "df['Upper case words'] = df['Text'].apply(lambda x: len([x for x in x.split() if x.isupper()]))\r\n",
        "df['Upper case words']"
      ],
      "execution_count": null,
      "outputs": []
    },
    {
      "cell_type": "markdown",
      "metadata": {
        "id": "7UyFfE3PombW"
      },
      "source": [
        "#Basic Text Pre-processing of text data "
      ]
    },
    {
      "cell_type": "code",
      "metadata": {
        "id": "Is7ColPKM_-C"
      },
      "source": [
        "\r\n",
        "print('Lower casing')\r\n",
        "df['Lower Case'] = df['Text'].apply(lambda x: \" \".join(x.lower() for x in x.split()))\r\n",
        "df[['Lower Case']]"
      ],
      "execution_count": null,
      "outputs": []
    },
    {
      "cell_type": "code",
      "metadata": {
        "id": "0I21ibJrNGxf"
      },
      "source": [
        "print('Punctuation removal')\r\n",
        "df['Remove Punctuation'] = df['Lower Case'].str.replace('[^\\w\\s]','')\r\n",
        "df[['Remove Punctuation']]"
      ],
      "execution_count": null,
      "outputs": []
    },
    {
      "cell_type": "code",
      "metadata": {
        "id": "C5YCUxGPNGdn"
      },
      "source": [
        "print('Stopwords removal')\r\n",
        "\r\n",
        "from nltk.corpus import stopwords\r\n",
        "stop = stopwords.words('english')\r\n",
        "df['Stopwords Removal'] = df['Remove Punctuation'].apply(lambda x: \" \".join(x for x in x.split() if x not in stop))\r\n",
        "df[['Stopwords Removal']]"
      ],
      "execution_count": null,
      "outputs": []
    },
    {
      "cell_type": "code",
      "metadata": {
        "id": "IxeZQ_b4NFd3"
      },
      "source": [
        "print('Frequent words removal')\r\n",
        "\r\n",
        "freq_words = pd.Series(' '.join(df['Stopwords Removal']).split()).value_counts()[:10]\r\n",
        "print(freq_words)\r\n",
        "freq_words_list = list(freq_words.index)\r\n",
        "df['Frequent words removal'] = df['Stopwords Removal'].apply(lambda x: \" \".join(x for x in x.split() if x not in freq_words_list))\r\n",
        "df[['Frequent words removal']]\r\n"
      ],
      "execution_count": null,
      "outputs": []
    },
    {
      "cell_type": "code",
      "metadata": {
        "id": "oQYm1RslNE2E"
      },
      "source": [
        "print('Rare words removal')\r\n",
        "rare_words = pd.Series(' '.join(df['Stopwords Removal']).split()).value_counts()[-10:]\r\n",
        "print(rare_words)\r\n",
        "rare_words_list = list(rare_words.index)\r\n",
        "df['Rare Words removal'] = df['Frequent words removal'].apply(lambda x: \" \".join(x for x in x.split() if x not in rare_words_list))\r\n",
        "df[['Rare Words removal']]"
      ],
      "execution_count": null,
      "outputs": []
    },
    {
      "cell_type": "code",
      "metadata": {
        "id": "OVbzHNVpNDv2"
      },
      "source": [
        "print('Spelling correction')\r\n",
        "from textblob import TextBlob\r\n",
        "df['Spelling_Correction'] = df['Rare Words removal'].apply(lambda x: str(TextBlob(x).correct()))\r\n",
        "df[['Spelling_Correction']]"
      ],
      "execution_count": null,
      "outputs": []
    },
    {
      "cell_type": "code",
      "metadata": {
        "id": "AhUM86b3NDfZ"
      },
      "source": [
        "print('Tokenization')\r\n",
        "import nltk\r\n",
        "nltk.download('punkt')\r\n",
        "\r\n",
        "df['Tokenization'] = df['Spelling_Correction'].apply(lambda x: TextBlob(x).words)\r\n",
        "df[['Tokenization']]"
      ],
      "execution_count": null,
      "outputs": []
    },
    {
      "cell_type": "code",
      "metadata": {
        "id": "TYkUz1qjNDMa"
      },
      "source": [
        "print('Stemming')\r\n",
        "\r\n",
        "from nltk.stem import PorterStemmer\r\n",
        "st = PorterStemmer()\r\n",
        "df['is_Stemming'] = df['Tokenization'].apply(lambda x: \" \".join([st.stem(word) for word in x]))\r\n",
        "df[['is_Stemming']]\r\n"
      ],
      "execution_count": null,
      "outputs": []
    },
    {
      "cell_type": "code",
      "metadata": {
        "id": "lGpDqE7aRF3Y"
      },
      "source": [
        "print('Lemmatization')\r\n",
        "\r\n",
        "from textblob import Word\r\n",
        "import nltk\r\n",
        "nltk.download('wordnet')\r\n",
        "\r\n",
        "df['is_Lemmatization'] = df['is_Stemming'].apply(lambda x: \" \".join([Word(word).lemmatize() for word in x.split()]))\r\n",
        "df[['is_Lemmatization']]"
      ],
      "execution_count": null,
      "outputs": []
    },
    {
      "cell_type": "markdown",
      "metadata": {
        "id": "YMg0hjYrd2U-"
      },
      "source": [
        "1.3 Save all the clean sentences to a csv file (one column, each raw is a sentence) after finishing all the steps above. (4 points)"
      ]
    },
    {
      "cell_type": "code",
      "metadata": {
        "id": "MknYc23pd2DR"
      },
      "source": [
        "df.to_csv('is_clean.csv',index=False)"
      ],
      "execution_count": 59,
      "outputs": []
    },
    {
      "cell_type": "markdown",
      "metadata": {
        "id": "REoymjzyd96N"
      },
      "source": [
        "1.4 Advance Text Processing (Extra credit: 4 points)\r\n",
        "Calculate the term frequency of all the terms.\r\n",
        "Print out top 10 1-gram, top 10 2-grams, and top 10 3-grams terms as features."
      ]
    },
    {
      "cell_type": "code",
      "metadata": {
        "id": "SWV3Z6bQL6_t"
      },
      "source": [
        "is_text=(df['is_Lemmatization']).apply(lambda x: pd.value_counts(x.split(\" \"))).sum(axis = 0).reset_index()\r\n",
        "is_text.columns=['words', 'tf']\r\n",
        "is_text"
      ],
      "execution_count": null,
      "outputs": []
    },
    {
      "cell_type": "code",
      "metadata": {
        "id": "ydS1u427NttD"
      },
      "source": [
        "print('Top 10 one grams')\r\n",
        "import itertools\r\n",
        "import collections\r\n",
        "from nltk import ngrams\r\n",
        "from nltk.tokenize import word_tokenize\r\n",
        "\r\n",
        "Words_advanced = []\r\n",
        "for sentence in df['is_Lemmatization']:\r\n",
        "  Words_advanced.append(word_tokenize(sentence))\r\n",
        "aftercleaning = [x for x in Words_advanced if x != []]\r\n",
        "iterations = list(itertools.chain.from_iterable(aftercleaning))\r\n",
        "one_grams = ngrams(iterations, 1)\r\n",
        "collections.Counter(one_grams).most_common(10)\r\n"
      ],
      "execution_count": null,
      "outputs": []
    },
    {
      "cell_type": "code",
      "metadata": {
        "id": "sYQ4vYaYNupC"
      },
      "source": [
        "print('Top 10 Bi grams')\r\n",
        "is_bigrams = nltk.bigrams(iterations)\r\n",
        "is_frequency = nltk.FreqDist(is_bigrams)\r\n",
        "(is_frequency.most_common(10))"
      ],
      "execution_count": null,
      "outputs": []
    },
    {
      "cell_type": "code",
      "metadata": {
        "id": "QH-6DPvGNuKG"
      },
      "source": [
        "print('Top 10 Tri grams')\r\n",
        "\r\n",
        "is_trigrams = nltk.trigrams(iterations)\r\n",
        "is_frequency = nltk.FreqDist(is_trigrams)\r\n",
        "is_frequency.most_common(10)"
      ],
      "execution_count": null,
      "outputs": []
    },
    {
      "cell_type": "markdown",
      "metadata": {
        "id": "BBiC4E_kefvV"
      },
      "source": [
        "# 2. Python Regular Expression"
      ]
    },
    {
      "cell_type": "markdown",
      "metadata": {
        "id": "Z1QJ-UwCenvN"
      },
      "source": [
        "## 2.1 Write a Python program to remove leading zeros from an IP address. (4 points)\n",
        "\n",
        "ip = \"260.08.094.109\""
      ]
    },
    {
      "cell_type": "code",
      "metadata": {
        "id": "wSv6fVhOfFmv",
        "colab": {
          "base_uri": "https://localhost:8080/"
        },
        "outputId": "8847b944-dbdf-439f-9e48-8b4ebc64869c"
      },
      "source": [
        "# Write your code here\n",
        "\n",
        "import re\n",
        "is_ip =  \"260.08.094.109\"\n",
        "is_remove_zero = re.sub('\\.[0]*', '.', is_ip)\n",
        "print(is_remove_zero)\n",
        "\n"
      ],
      "execution_count": null,
      "outputs": [
        {
          "output_type": "stream",
          "text": [
            "260.8.94.109\n"
          ],
          "name": "stdout"
        }
      ]
    },
    {
      "cell_type": "markdown",
      "metadata": {
        "id": "PXRjaHzrfKAy"
      },
      "source": [
        "## 2.2 Write a Python Program to extract all the years from the following sentence. (4 points)\n",
        "\n",
        "sentence = \"The 2010s were a dramatic decade, filled with ups and downs, more than 1000 stroies have happened. As the decade comes to a close, Insider took a look back at some of the biggest headline-grabbing stories, from 2010 to 2019. The result was 119 news stories that ranged from the heartwarming rescue of a Thai boys' soccer team from a flooded cave to the divisive election of President Donald Trump.\""
      ]
    },
    {
      "cell_type": "code",
      "metadata": {
        "id": "7xdJpDx9gjbX",
        "colab": {
          "base_uri": "https://localhost:8080/"
        },
        "outputId": "49017470-a080-4912-bde5-8b30a1952354"
      },
      "source": [
        "# Write your code here\r\n",
        "\r\n",
        "import re\r\n",
        "sentence = \"The 2010s were a dramatic decade, filled with ups and downs, more than 1000 stroies have happened. As the decade comes to a close, Insider took a look back at some of the biggest headline-grabbing stories, from 2010 to 2019. The result was 119 news stories that ranged from the heartwarming rescue of a Thai boys' soccer team from a flooded cave to the divisive election of President Donald Trump.\"\r\n",
        "find_year = re.findall(r'2\\d\\d\\d', sentence)\r\n",
        "print(find_year)"
      ],
      "execution_count": null,
      "outputs": [
        {
          "output_type": "stream",
          "text": [
            "['2010', '2010', '2019']\n"
          ],
          "name": "stdout"
        }
      ]
    }
  ]
}