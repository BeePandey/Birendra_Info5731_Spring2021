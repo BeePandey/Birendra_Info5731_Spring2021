{
  "nbformat": 4,
  "nbformat_minor": 0,
  "metadata": {
    "colab": {
      "name": "In_class_exercise_06.ipynb",
      "provenance": [],
      "collapsed_sections": [],
      "toc_visible": true,
      "include_colab_link": true
    },
    "kernelspec": {
      "display_name": "Python 3",
      "language": "python",
      "name": "python3"
    },
    "language_info": {
      "codemirror_mode": {
        "name": "ipython",
        "version": 3
      },
      "file_extension": ".py",
      "mimetype": "text/x-python",
      "name": "python",
      "nbconvert_exporter": "python",
      "pygments_lexer": "ipython3",
      "version": "3.8.5"
    }
  },
  "cells": [
    {
      "cell_type": "markdown",
      "metadata": {
        "id": "view-in-github",
        "colab_type": "text"
      },
      "source": [
        "<a href=\"https://colab.research.google.com/github/BeePandey/Birendra_Info5731_Spring2021/blob/main/In_class_exercise_06.ipynb\" target=\"_parent\"><img src=\"https://colab.research.google.com/assets/colab-badge.svg\" alt=\"Open In Colab\"/></a>"
      ]
    },
    {
      "cell_type": "markdown",
      "metadata": {
        "id": "z7TahL04sVvR"
      },
      "source": [
        "# **The sixth in-class-exercise (20 points in total, 3/2/2021)**"
      ]
    },
    {
      "cell_type": "markdown",
      "metadata": {
        "id": "ejyZITr8sjnh"
      },
      "source": [
        "## **1. Rule-based information extraction (10 points)**\n",
        "\n",
        "Use any keywords related to data science, natural language processing, machine learning to search from google scholar, get the **titles** of 100 articles (either by web scraping or manually) about this topic, define a set of patterns to extract the research questions/problems, methods/algorithms/models, datasets, applications, or any other important information about this topic. "
      ]
    },
    {
      "cell_type": "code",
      "metadata": {
        "id": "XvR_O9D8sOUY"
      },
      "source": [
        "from bs4 import BeautifulSoup\r\n",
        "import base64  \r\n",
        "import csv\r\n",
        "import requests \r\n",
        "import pandas as pd\r\n",
        "\r\n",
        "Is_Question = \"Data Science\"\r\n",
        "url = 'https://scholar.google.com/scholar?q=' + Is_Question + '&ie=UTF-8&oe=UTF-8&hl=en&btnG=Search'\r\n",
        "response = requests.get(url).text\r\n",
        "soup = BeautifulSoup(response, 'lxml')\r\n",
        "Is_Title = []\r\n",
        "Is_UrlLink = []\r\n",
        "Is_Summary = []\r\n",
        "for a in range(10):\r\n",
        "    for item in soup.select('[data-lid]'): \r\n",
        "      try: \r\n",
        "        Is_Title.append(item.select('h3')[0].get_text()) \r\n",
        "        #Is_UrlLink.append(item.select('a')[0]['href'])\r\n",
        "        #Is_Summary.append(item.select('.gs_rs')[0].get_text())\r\n",
        "      except Exception as e: \r\n",
        "          print('')\r\n",
        "Is_Listofitem = pd.DataFrame(Is_Title, columns=['Title'])\r\n",
        "Is_Listofitem.to_csv('articleList.csv', index = False)\r\n"
      ],
      "execution_count": 4,
      "outputs": []
    },
    {
      "cell_type": "code",
      "metadata": {
        "colab": {
          "base_uri": "https://localhost:8080/"
        },
        "id": "5uwp6xfFkzVE",
        "outputId": "0a67ef66-de34-4a5d-d0c4-1a2d4518429d"
      },
      "source": [
        "\r\n",
        "import pandas as pd\r\n",
        "Is_ArticleHeading = pd.read_csv('articleList.csv', encoding = \"ISO-8859-1\")\r\n",
        "print(Is_ArticleHeading)\r\n"
      ],
      "execution_count": 5,
      "outputs": [
        {
          "output_type": "stream",
          "text": [
            "                                                Title\n",
            "0                              Data science in action\n",
            "1                         Data science and prediction\n",
            "2   Data science and its relationship to big data ...\n",
            "3   [BOOK][B] Data Science for Business: What you ...\n",
            "4   [BOOK][B] High-dimensional probability: An int...\n",
            "..                                                ...\n",
            "95  Computational optimal transport: With applicat...\n",
            "96  Data science, predictive analytics, and big da...\n",
            "97  Reproducible, interactive, scalable and extens...\n",
            "98  The quantified self: Fundamental disruption in...\n",
            "99  [HTML][HTML] Big data: astronomical or genomical?\n",
            "\n",
            "[100 rows x 1 columns]\n"
          ],
          "name": "stdout"
        }
      ]
    },
    {
      "cell_type": "code",
      "metadata": {
        "colab": {
          "base_uri": "https://localhost:8080/"
        },
        "id": "aci96arc0iz1",
        "outputId": "149fdc39-6fa9-4c16-eab7-911ac2060dc1"
      },
      "source": [
        "\r\n",
        "\r\n",
        "import spacy\r\n",
        "from spacy.matcher import Matcher\r\n",
        "\r\n",
        "nlp = spacy.load(\"en_core_web_sm\")\r\n",
        "match = Matcher(nlp.vocab)\r\n",
        "setA= [{\"LOWER\": \"techniques\"}]\r\n",
        "setB= [{\"TEXT\": {\"REGEX\": \"^(N|n)\\w+$\"}},{\"TEXT\": {\"REGEX\": \"^(L|l)\\w+$\"}}, {\"TEXT\": {\"REGEX\": \"^(P|p)\\w+$\"}},\r\n",
        "           {\"TEXT\": {\"REGEX\": \"^(I|i)(N|n)$\"}},{\"TEXT\": {\"REGEX\": \"^\\w+$\"}}]\r\n",
        "setC = [{\"TEXT\": {\"REGEX\": \"^\\w+$\"}}, {\"TEXT\": {\"REGEX\": \"^[Uu](\\.?|sing)$\"}}, {\"TEXT\": {\"REGEX\": \"^\\w+$\"}}]\r\n",
        "setD= [{\"TEXT\": {\"REGEX\": \"^\\w+$\"}}, {\"TEXT\": {\"REGEX\": \"^[Bb](\\.?|ased)$\"}}, {\"TEXT\": {\"REGEX\": \"^\\w+$\"}}]\r\n",
        "match.add(\"Techniques\", None, setA)\r\n",
        "match.add(\"Uses\", None, setB)\r\n",
        "match.add(\"methods\", None, setC)\r\n",
        "match.add(\"based\", None, setD)\r\n",
        "\r\n",
        "for c in Is_ArticleHeading['Title']:\r\n",
        "  text_doc = nlp(c)\r\n",
        "  matches = match(text_doc)\r\n",
        "  for match_id, start, end in matches:\r\n",
        "      span = text_doc[start:end]\r\n",
        "      print(c)"
      ],
      "execution_count": 6,
      "outputs": [
        {
          "output_type": "stream",
          "text": [
            "Reproducible, interactive, scalable and extensible microbiome data science using QIIME 2\n",
            "Reproducible, interactive, scalable and extensible microbiome data science using QIIME 2\n",
            "Reproducible, interactive, scalable and extensible microbiome data science using QIIME 2\n",
            "Reproducible, interactive, scalable and extensible microbiome data science using QIIME 2\n",
            "Reproducible, interactive, scalable and extensible microbiome data science using QIIME 2\n",
            "Reproducible, interactive, scalable and extensible microbiome data science using QIIME 2\n",
            "Reproducible, interactive, scalable and extensible microbiome data science using QIIME 2\n",
            "Reproducible, interactive, scalable and extensible microbiome data science using QIIME 2\n",
            "Reproducible, interactive, scalable and extensible microbiome data science using QIIME 2\n",
            "Reproducible, interactive, scalable and extensible microbiome data science using QIIME 2\n"
          ],
          "name": "stdout"
        }
      ]
    },
    {
      "cell_type": "markdown",
      "metadata": {
        "id": "U_e2vdnn37yG"
      },
      "source": [
        "2.\r\n",
        "\r\n",
        "Domain-specific information extraction (10 points)¶ For the legal case used in the data cleaning exercise: 01-05-1 Adams v Tanner.txt, use legalNLP to extract the following inforation from the text (if the information is not exist, just print None):\r\n",
        "(1) acts, e.g., “section 1 of the Advancing Hope Act, 1986”\r\n",
        "\r\n",
        "(2) amounts, e.g., “ten pounds” or “5.8 megawatts”\r\n",
        "\r\n",
        "(3) citations, e.g., “10 U.S. 100” or “1998 S. Ct. 1”\r\n",
        "\r\n",
        "(4) companies, e.g., “Lexpredict LLC”\r\n",
        "\r\n",
        "(5) conditions, e.g., “subject to …” or “unless and until …”\r\n",
        "\r\n",
        "(6) constraints, e.g., “no more than”\r\n",
        "\r\n",
        "(7) copyright, e.g., “(C) Copyright 2000 Acme”\r\n",
        "\r\n",
        "(8) courts, e.g., “Supreme Court of New York”\r\n",
        "\r\n",
        "(9) CUSIP, e.g., “392690QT3”\r\n",
        "\r\n",
        "(10) dates, e.g., “June 1, 2017” or “2018-01-01”\r\n",
        "\r\n",
        "(11) definitions, e.g., “Term shall mean …”\r\n",
        "\r\n",
        "(12) distances, e.g., “fifteen miles”\r\n",
        "\r\n",
        "(13) durations, e.g., “ten years” or “thirty days”\r\n",
        "\r\n",
        "(14) geographic and geopolitical entities, e.g., “New York” or “Norway”\r\n",
        "\r\n",
        "(15) money and currency usages, e.g., “$5” or “10 Euro”\r\n",
        "\r\n",
        "(16) percents and rates, e.g., “10%” or “50 bps”\r\n",
        "\r\n",
        "(17) PII, e.g., “212-212-2121” or “999-999-9999”\r\n",
        "\r\n",
        "(18) ratios, e.g.,” 3:1” or “four to three”\r\n",
        "\r\n",
        "(19) regulations, e.g., “32 CFR 170”\r\n",
        "\r\n",
        "(20) trademarks, e.g., “MyApp (TM)”\r\n",
        "\r\n",
        "(21) URLs, e.g., “http://acme.com/”\r\n",
        "\r\n",
        "(22) addresses, e.g., “1999 Mount Read Blvd, Rochester, NY, USA, 14615”\r\n",
        "\r\n",
        "(23) persons, e.g., “John Doe"
      ]
    },
    {
      "cell_type": "code",
      "metadata": {
        "id": "xcA4fS8IIlwE"
      },
      "source": [
        "\r\n",
        "#Importing String \r\n",
        "from six.moves import urllib\r\n",
        "import pandas as pd\r\n",
        "import lexnlp\r\n",
        "\r\n",
        "Is_StrText = ''\r\n",
        "url = \"https://raw.githubusercontent.com/unt-iialab/info5731_spring2021/main/class_exercises/01-05-1%20%20Adams%20v%20Tanner.txt\"\r\n",
        "txt_file = urllib.request.urlopen(url)\r\n",
        "\r\n",
        "for line in txt_file:\r\n",
        "  decoded_info = line.decode(\"utf-8\").replace('\\n', ' ')\r\n",
        "  if decoded_info: Is_StrText = Is_StrText + decoded_info"
      ],
      "execution_count": 17,
      "outputs": []
    },
    {
      "cell_type": "code",
      "metadata": {
        "colab": {
          "base_uri": "https://localhost:8080/"
        },
        "id": "X0CqyFEqIrrM",
        "outputId": "ad73f6a6-f8d8-4b5c-9d01-653a319600bc"
      },
      "source": [
        "\r\n",
        "#Acts\r\n",
        "import lexnlp.extract.en.acts\r\n",
        "is_acts = lexnlp.extract.en.acts.get_act_list(Is_StrText)\r\n",
        "if acts: \r\n",
        "  print(acts)\r\n",
        "else:\r\n",
        "  print('No Acts')"
      ],
      "execution_count": 19,
      "outputs": [
        {
          "output_type": "stream",
          "text": [
            "No Acts\n"
          ],
          "name": "stdout"
        }
      ]
    },
    {
      "cell_type": "code",
      "metadata": {
        "colab": {
          "base_uri": "https://localhost:8080/"
        },
        "id": "_w2Ygn6lIr6F",
        "outputId": "a0103231-685e-4fb1-b791-d4f22aa802ba"
      },
      "source": [
        "#Amount\r\n",
        "import lexnlp.extract.en.amounts\r\n",
        "print(list(lexnlp.extract.en.amounts.get_amounts(Is_StrText)))\r\n"
      ],
      "execution_count": 21,
      "outputs": [
        {
          "output_type": "stream",
          "text": [
            "[Decimal('5.0'), Decimal('740.0'), Decimal('1843.0'), Decimal('2.0'), Decimal('1.0'), Decimal('4.0'), Decimal('2.0'), Decimal('1821.0'), Decimal('5.0'), Decimal('1.0'), Decimal('1840.0'), Decimal('3777.0'), Decimal('80.0'), Decimal('100.0'), Decimal('30.0'), Decimal('1839.0'), Decimal('741.0'), Decimal('22.0'), Decimal('1840.0'), Decimal('14000.0'), Decimal('120.0'), Decimal('1.0'), Decimal('1840.0'), Decimal('3.0'), Decimal('4.0'), Decimal('1.0'), Decimal('1.0'), Decimal('1840.0'), Decimal('2.0'), Decimal('1.0'), Decimal('361.0'), Decimal('1.0'), Decimal('307.0'), Decimal('6.0'), Decimal('604.0'), Decimal('1.0'), Decimal('2.0'), Decimal('418.0'), Decimal('422.0'), Decimal('7.0'), Decimal('34.0'), Decimal('41.0'), Decimal('167.0'), Decimal('742.0'), Decimal('3.0'), Decimal('112.0'), Decimal('207.0'), Decimal('3.0'), Decimal('338.0'), Decimal('424.0'), Decimal('5.0'), Decimal('26.0'), Decimal('13.0'), Decimal('235.0'), Decimal('8.0'), Decimal('693.0'), Decimal('4.0'), Decimal('1821.0'), Decimal('167.0'), Decimal('2.0'), Decimal('2.0'), Decimal('216.0'), Decimal('3.0'), Decimal('66.0'), Decimal('4.0'), Decimal('130.0'), Decimal('29.0'), Decimal('2.0'), Decimal('241.0'), Decimal('2.0'), Decimal('332.0'), Decimal('2.0'), Decimal('422.0'), Decimal('9.0'), Decimal('112.0'), Decimal('743.0'), Decimal('9.0'), Decimal('39.0'), Decimal('14000.0'), Decimal('1840.0'), Decimal('744.0'), Decimal('5.0'), Decimal('182.0'), Decimal('3.0'), Decimal('368.0'), Decimal('1.0'), Decimal('397.0'), Decimal('6.0'), Decimal('604.0'), Decimal('1.0'), Decimal('1821.0'), Decimal('167.0'), Decimal('745.0'), Decimal('4.0'), Decimal('746.0'), Decimal('4.0'), Decimal('210.0'), Decimal('46.0'), Decimal('747.0'), Decimal('5.0'), Decimal('5.0'), Decimal('740.0'), Decimal('1843.0'), Decimal('284.0'), Decimal('2019.0'), Decimal('9.0'), Decimal('1.0'), Decimal('55.0'), Decimal('266.0'), Decimal('271.0'), Decimal('1876.0'), Decimal('2.0'), Decimal('47.0'), Decimal('362.0'), Decimal('376.0'), Decimal('1872.0'), Decimal('3.0'), Decimal('45.0'), Decimal('329.0'), Decimal('334.0'), Decimal('1871.0'), Decimal('4.0'), Decimal('31.0'), Decimal('526.0'), Decimal('527.0'), Decimal('1858.0'), Decimal('5.0'), Decimal('21.0'), Decimal('333.0'), Decimal('335.0'), Decimal('1852.0'), Decimal('6.0'), Decimal('8.0'), Decimal('145.0'), Decimal('147.0'), Decimal('1857.0'), Decimal('7.0'), Decimal('65.0'), Decimal('256.0'), Decimal('258.0'), Decimal('3.0'), Decimal('1880.0'), Decimal('8.0'), Decimal('4.0'), Decimal('913.0'), Decimal('914.0'), Decimal('1887.0'), Decimal('9.0'), Decimal('103.0'), Decimal('464.0'), Decimal('1936.0'), Decimal('3.0'), Decimal('1.0'), Decimal('9.0'), Decimal('39.0'), Decimal('1828.0'), Decimal('2.0'), Decimal('2.0'), Decimal('5.0'), Decimal('182.0'), Decimal('1837.0'), Decimal('2.0'), Decimal('3.0'), Decimal('9.0'), Decimal('108.0'), Decimal('1812.0'), Decimal('6.0'), Decimal('1.0'), Decimal('2.0')]\n"
          ],
          "name": "stdout"
        }
      ]
    },
    {
      "cell_type": "code",
      "metadata": {
        "colab": {
          "base_uri": "https://localhost:8080/"
        },
        "id": "u4xYNflwIsnV",
        "outputId": "d6e1ea82-fc29-4349-f215-8c48f5a73bb9"
      },
      "source": [
        "#Citations\r\n",
        "import lexnlp.extract.en.citations\r\n",
        "print(list(lexnlp.extract.en.citations.get_citations(Is_StrText)))"
      ],
      "execution_count": 22,
      "outputs": [
        {
          "output_type": "stream",
          "text": [
            "[(5, 'Ala.', 'Alabama Reports', 740, None, None, None), (5, 'Ala.', 'Alabama Reports', 740, '1843', None, None), (55, 'Ala.', 'Alabama Reports', 266, '271', None, None), (47, 'Ala.', 'Alabama Reports', 362, '376', None, None), (45, 'Ala.', 'Alabama Reports', 329, '334', None, None), (31, 'Ala.', 'Alabama Reports', 526, '527', None, None), (21, 'Ala.', 'Alabama Reports', 333, '335', None, None), (8, 'Cal.', 'California Reports', 145, '147', None, None), (65, 'Ala.', 'Alabama Reports', 256, '258', None, None), (4, 'S.W.', 'South Western Reporter', 913, '914', None, None), (103, 'A.L.R.', 'American Law Reports', 464, None, None, None), (9, 'Cow.', \"Cowen's Reports\", 39, None, None, None), (5, 'Port.', 'Alabama Reports, Porter', 182, None, None, None), (9, 'Johns.', \"Johnson's Reports\", 108, None, None, None)]\n"
          ],
          "name": "stdout"
        }
      ]
    },
    {
      "cell_type": "code",
      "metadata": {
        "colab": {
          "base_uri": "https://localhost:8080/"
        },
        "id": "jaiiBHGiIrp7",
        "outputId": "20567bd4-da68-4a2d-c258-87d3618a9ac7"
      },
      "source": [
        "#Companies\r\n",
        "import lexnlp.extract.en.entities.nltk_re\r\n",
        "print(list(lexnlp.extract.en.entities.nltk_re.get_companies(Is_StrText)))"
      ],
      "execution_count": 23,
      "outputs": [
        {
          "output_type": "stream",
          "text": [
            "[Lehman, Durr Co, (18055, 18073)]\n"
          ],
          "name": "stdout"
        }
      ]
    },
    {
      "cell_type": "code",
      "metadata": {
        "colab": {
          "base_uri": "https://localhost:8080/"
        },
        "id": "K1DQ5ZiIIxEZ",
        "outputId": "2bd10340-affb-48fb-b3c3-93322e6da478"
      },
      "source": [
        "#Conditions\r\n",
        "import lexnlp.extract.en.conditions\r\n",
        "print(list(lexnlp.extract.en.conditions.get_conditions(Is_StrText)))"
      ],
      "execution_count": 24,
      "outputs": [
        {
          "output_type": "stream",
          "text": [
            "[('until', '4 Cases that cite this headnote\\r \\r [2]\\r Creditors’ Remedies\\r Lien and Priority\\r Under St.1821, prohibiting a levy on a crop', ''), ('until', 'on a growing crop, nor does such lien attach', ''), ('if', 'It was proved by the claimants, by the production of a written contract, that Harrison, on the twenty-second of May, 1840, in consideration that the claimants were involved, as indorsers for Burton & Harrison of Sumter county, and were then exposed to an execution, amounting to upwards of fourteen thousand dollars, bargained and sold to the claimants all his growing crop of cotton &c., consisting of one hundred and twenty acres, &c. Allen Harrison promised and obliged himself to give up his crop to the use of the claimants at any time to save them from suffering as his indorsers;', ''), ('when', 'The claimants came from Tennessee, (where they resided) about the first of September, 1840, bringing with them three or four white laborers, and took possession of the crop and slaves, and with the latter, and white laborers, gathered the cotton, prepared it for market, and', ''), ('if', 'The court charged the jury, that the plaintiff had no lien by virtue of his judgment, and execution on the growing crop; that Harrison had a right to convey it, without being in any manner restrained by them; that the writing adduced, was a sale of the crop, but', ''), ('when', 'it was not, and the lien of the fieri facias would have attached upon it,', ''), ('if', 'gathered, yet', ''), ('not subject to', 'the claimants obtained possession on the first of September, and controlled the gathering of the crop, then no lien attached, and it was', ''), ('until', 'Rep, 693;] and', ''), ('until', '167,] which declares it to be lawful to levy an execution on a planted crop,', ''), ('if', 'It is admitted that the contract between the defendant in execution, and the claimants, was in good faith,', ''), ('when', 'The defendant in execution might at any time have divested the interest which the contract vested in the claimants, by discharging their liability as his indorsers, or a judgment creditor might have satisfied the lien, and', ''), ('unless', 'We will then consider the writing under which the claimants assert a right, as a mortgage with a power to take possession any time during the year,', ''), ('if', 'Conceding the truth of the facts stated in the bill of exceptions, and we think it will not follow, that the possession of the claimants is a nullity, and that the case must be considered as', ''), ('if', 'The contract contains an express undertaking to give up the crop at any time the claimants might require it for their indemnity, and', ''), ('if', 'they took possession of it in the absence of the grantor, (though without his consent,)', ''), ('if', 'he subsequently acquiesced in it, the inference would be,', ''), ('subject to', 'Mr. Dane, in remarking upon this point, says, “The American editor of Bacon’s Abridgment, says, ‘Wheat growing in the ground is a chattel, and', ''), ('until', 'The first section of the act of 1821, “To prevent sheriffs and other officers from levying executions in certain cases, enacts, that “It shall not be lawful for any sheriff or other officer, to levy a writ of fieri facias or other execution on the planted crop of a debtor, or person against whom an execution may issue,', ''), ('until', 'Now here is an express inhibition to levy an execution on a crop while it remains on, or in the ground, and', ''), ('until', 'If so, the act cited, will only have the effect of keeping the right to levy it in abeyance', ''), ('if', 'The lien and the right to levy are intimately connected, and', ''), ('until', 'That it was competent for the legislature to have made it unlawful to levy an execution on particular property,', ''), ('until', 'If the object was merely to suspend the sale,', ''), ('as soon as', 'The idea that the lien attached upon the planted crop', ''), ('until', 'the execution was delivered to the sheriff, though the right to levy it was postponed', ''), ('if', 'They do not refer to the lien,', ''), ('until', 'they did they would postpone it', ''), ('until', 'the crop was gathered; but it is the levy they relate to and postpone', ''), ('until', '**4 The right to levy an execution on a planted crop, then, being expressly taken away by the statute, the lien which is connected with and consequent upon that right, never attaches', ''), ('if', 'The circuit judge may have mistaken the law in supposing that the contract was a sale, but', ''), ('when', 'There is no assumption of any material fact in the charge; but the possession of the claimant, the time', ''), ('if', 'acquired, the gathering of the crop, &c., are all referred to the determination of the jury; who are instructed,', ''), ('until', '**4 The statute which presents the question before the court is, that “it shall not be lawful for any sheriff or other officer to levy a writ of fieei facias or other execution, on the planted crop of a debtor, or person against whom an execution may issue,', ''), ('subject to', 'The policy of the State, as indicated by these statutes, is undeniably that all the property of a debtor, real and personal, to which he has a legal title, shall be', ''), ('until', 'The mischief which the statute designed to remedy was, the sacrifice which would be necessarily made by the sale of an immature crop: the statute enables the debtor to retain it', ''), ('if', '**5', ''), ('until', 'The sheriff is forbidden to levy on a “planted crop”', ''), ('if', 'Now,', ''), ('until', 'This, I feel a thorough conviction, was not the intention of the legislature; but that it was to secure him from loss, by prohibiting a levy and sale of the crop,', ''), ('when', 'it was gathered,', ''), ('subject to', 'Growing crops as', ''), ('subject to', '464\\r Generally, at common law, growing crops raised by annual planting, while still attached to the soil, are regarded as personal chattels,', ''), ('where', 'And', '')]\n"
          ],
          "name": "stdout"
        }
      ]
    },
    {
      "cell_type": "code",
      "metadata": {
        "colab": {
          "base_uri": "https://localhost:8080/"
        },
        "id": "HvA_QuNoIxZT",
        "outputId": "552b091e-0628-45e6-802b-a85db3541841"
      },
      "source": [
        "#Constraints\r\n",
        "import lexnlp.extract.en.constraints\r\n",
        "print(list(lexnlp.extract.en.constraints.get_constraints(text)))"
      ],
      "execution_count": 25,
      "outputs": [
        {
          "output_type": "stream",
          "text": [
            "[('after', 'on a growing crop, nor does such lien attach until', ''), ('after', '', ' and that alias and pluries fieri facias’, issued regularly up to the time levy was made; that the cotton levied on was growed on the plantation of harrison, and cultivated by the hands in his service.'), ('first of', 'the claimants came from tennessee, (where they resided) about the', ''), ('first of', 'the court charged the jury, that the plaintiff had no lien by virtue of his judgment, and execution on the growing crop; that harrison had a right to convey it, without being in any manner restrained by them; that the writing adduced, was a sale of the crop, but if it was not, and the lien of the fieri facias would have attached upon it, when gathered, yet if the claimants obtained possession on the', ''), ('after', 'it merely inhibits the levy, but the lien attaches, and a levy and sale may be made', ''), ('more than', 'taking this to be clear *744 law, and it will be seen, that the defendant in execution at the time of the levy had nothing', ''), ('before', 'it has been frequently mooted whether, at common law, corn, &c.,', ''), ('before', '**4 the statute which presents the question', ''), ('after', 'now, if the view taken by the majority of the court, is correct, the right secured to the plaintiff in execution, of levying on the crop', ''), ('before', 'tried', ''), ('before', 'tried', ''), ('before', 'tried', ''), ('before', 'tried', ''), ('before', 'tried', ''), ('before', 'tried', '')]\n"
          ],
          "name": "stdout"
        }
      ]
    },
    {
      "cell_type": "code",
      "metadata": {
        "colab": {
          "base_uri": "https://localhost:8080/"
        },
        "id": "pNR0dOoqI3BT",
        "outputId": "e303b24d-5f38-44e2-fd7c-54be4498c5cf"
      },
      "source": [
        "\r\n",
        "#Copy Rights\r\n",
        "\r\n",
        "import lexnlp.extract.en.copyright\r\n",
        "print(list(lexnlp.extract.en.copyright.get_copyright(text)))#COPYRIGH\r\n"
      ],
      "execution_count": 26,
      "outputs": [
        {
          "output_type": "stream",
          "text": [
            "[('©', '2019', 'Thomson Reuters. No')]\n"
          ],
          "name": "stdout"
        }
      ]
    },
    {
      "cell_type": "code",
      "metadata": {
        "id": "vL7t-hUKI3Wb"
      },
      "source": [
        "Courts"
      ],
      "execution_count": null,
      "outputs": []
    },
    {
      "cell_type": "code",
      "metadata": {
        "colab": {
          "base_uri": "https://localhost:8080/"
        },
        "id": "js7yvewWI3n0",
        "outputId": "d642e60a-f7c6-4dcf-cf3c-24a66628930c"
      },
      "source": [
        "#Cusip\r\n",
        "import lexnlp.extract.en.cusip\r\n",
        "Is_cusip = list(lexnlp.extract.en.cusip.get_cusip(text))\r\n",
        "if Is_cusip:\r\n",
        "  print(Is_cusip)\r\n",
        "else:\r\n",
        "  print('Cusip Not Present')"
      ],
      "execution_count": 28,
      "outputs": [
        {
          "output_type": "stream",
          "text": [
            "Cusip Not Present\n"
          ],
          "name": "stdout"
        }
      ]
    },
    {
      "cell_type": "code",
      "metadata": {
        "colab": {
          "base_uri": "https://localhost:8080/"
        },
        "id": "clSJGxDkI9Rh",
        "outputId": "1aca0d62-61b3-4f99-e067-709b65a934d2"
      },
      "source": [
        "#Dates\r\n",
        "import lexnlp.extract.en.dates\r\n",
        "print(list(lexnlp.extract.en.dates.get_dates(Is_StrText)))"
      ],
      "execution_count": 30,
      "outputs": [
        {
          "output_type": "stream",
          "text": [
            "[datetime.date(2021, 6, 1), datetime.date(1840, 11, 1), datetime.date(1839, 10, 1), datetime.date(1840, 9, 1), datetime.date(1840, 5, 1), datetime.date(1840, 5, 1), datetime.date(2021, 12, 1), datetime.date(2021, 12, 1), datetime.date(2021, 1, 1), datetime.date(2021, 1, 1), datetime.date(2021, 1, 1), datetime.date(2021, 3, 21), datetime.date(2021, 6, 1), datetime.date(2021, 7, 1), datetime.date(2021, 11, 1)]\n"
          ],
          "name": "stdout"
        }
      ]
    },
    {
      "cell_type": "code",
      "metadata": {
        "colab": {
          "base_uri": "https://localhost:8080/"
        },
        "id": "xl4wr0tAI_Jh",
        "outputId": "d6634ad5-e15e-4e24-c744-b51311ac714b"
      },
      "source": [
        "#Definitions\r\n",
        "import lexnlp.extract.en.definitions\r\n",
        "Is_definitions = list(lexnlp.extract.en.definitions.get_definitions(text))\r\n",
        "if Is_definitions:\r\n",
        "  print(Is_definitions)\r\n",
        "else:\r\n",
        "  print('Definitions not Present')\r\n",
        "\r\n"
      ],
      "execution_count": 31,
      "outputs": [
        {
          "output_type": "stream",
          "text": [
            "Definitions not Present\n"
          ],
          "name": "stdout"
        }
      ]
    },
    {
      "cell_type": "code",
      "metadata": {
        "colab": {
          "base_uri": "https://localhost:8080/"
        },
        "id": "-uf_lyf5JAXP",
        "outputId": "5b22233c-2d0b-49c1-f2b7-0484f5a7093a"
      },
      "source": [
        "#Distances\r\n",
        "import lexnlp.extract.en.distances\r\n",
        "Is_distances = list(lexnlp.extract.en.distances.get_distances(Is_StrText))\r\n",
        "if Is_distances:\r\n",
        "  print(Is_distances)\r\n",
        "else:\r\n",
        "  print('No distances')"
      ],
      "execution_count": 33,
      "outputs": [
        {
          "output_type": "stream",
          "text": [
            "No distances\n"
          ],
          "name": "stdout"
        }
      ]
    },
    {
      "cell_type": "code",
      "metadata": {
        "id": "mCUUEbWWJBtD"
      },
      "source": [
        "#Duration\r\n",
        "import lexnlp.extract.en.durations\r\n",
        "print(list(lexnlp.extract.en.durations.get_durations(Is_StrText)))\r\n"
      ],
      "execution_count": null,
      "outputs": []
    },
    {
      "cell_type": "code",
      "metadata": {
        "colab": {
          "base_uri": "https://localhost:8080/"
        },
        "id": "opxdGkuMJETs",
        "outputId": "86590d30-e6e8-46e7-b30c-060ff4a6bd74"
      },
      "source": [
        "#Money\r\n",
        "import lexnlp.extract.en.money\r\n",
        "print(list(lexnlp.extract.en.money.get_money(text)))"
      ],
      "execution_count": 40,
      "outputs": [
        {
          "output_type": "stream",
          "text": [
            "[(Decimal('100.0'), 'USD'), (Decimal('14000.0'), 'USD'), (Decimal('14000.0'), 'USD')]\n"
          ],
          "name": "stdout"
        }
      ]
    },
    {
      "cell_type": "code",
      "metadata": {
        "colab": {
          "base_uri": "https://localhost:8080/"
        },
        "id": "wH7NeA-_JH1Z",
        "outputId": "b033be4d-8445-4a92-91a2-0db3c88ef2c9"
      },
      "source": [
        "#Percents\r\n",
        "import lexnlp.extract.en.percents\r\n",
        "percents = list(lexnlp.extract.en.percents.get_percents(text))\r\n",
        "if percents:\r\n",
        "  print(percents)\r\n",
        "else:\r\n",
        "  print('No percents') #PERCENTS"
      ],
      "execution_count": 42,
      "outputs": [
        {
          "output_type": "stream",
          "text": [
            "No percents\n"
          ],
          "name": "stdout"
        }
      ]
    },
    {
      "cell_type": "code",
      "metadata": {
        "colab": {
          "base_uri": "https://localhost:8080/"
        },
        "id": "Im5vX5m2JESE",
        "outputId": "85eabd4b-744f-488a-ab8a-9e90718b8f99"
      },
      "source": [
        "#Pii\r\n",
        "import lexnlp.extract.en.pii\r\n",
        "pii = list(lexnlp.extract.en.pii.get_pii(text))\r\n",
        "if pii:\r\n",
        "  print(pii)\r\n",
        "else:\r\n",
        "  print('No pii')"
      ],
      "execution_count": 44,
      "outputs": [
        {
          "output_type": "stream",
          "text": [
            "No pii\n"
          ],
          "name": "stdout"
        }
      ]
    },
    {
      "cell_type": "code",
      "metadata": {
        "colab": {
          "base_uri": "https://localhost:8080/"
        },
        "id": "8Z7_J4PNJJrd",
        "outputId": "96d3da89-7311-4e55-c5fc-b7486389aeaa"
      },
      "source": [
        "#Ratios\r\n",
        "import lexnlp.extract.en.ratios\r\n",
        "ratios = list(lexnlp.extract.en.ratios.get_ratios(text))\r\n",
        "if ratios:\r\n",
        "  print(ratios)\r\n",
        "else:\r\n",
        "  print('No ratios')#RATIOS\r\n"
      ],
      "execution_count": 45,
      "outputs": [
        {
          "output_type": "stream",
          "text": [
            "No ratios\n"
          ],
          "name": "stdout"
        }
      ]
    },
    {
      "cell_type": "code",
      "metadata": {
        "colab": {
          "base_uri": "https://localhost:8080/"
        },
        "id": "xfloKvE6JLTP",
        "outputId": "74faacf8-f1ce-47c8-b012-feb0d82b5e74"
      },
      "source": [
        "#Regulations\r\n",
        "import lexnlp.extract.en.regulations\r\n",
        "regulations = list(lexnlp.extract.en.regulations.get_regulations(text))\r\n",
        "if regulations:\r\n",
        "  print(regulations)\r\n",
        "else:\r\n",
        "  print('No Regulations')#REGULATIONS"
      ],
      "execution_count": 46,
      "outputs": [
        {
          "output_type": "stream",
          "text": [
            "No Regulations\n"
          ],
          "name": "stdout"
        }
      ]
    },
    {
      "cell_type": "code",
      "metadata": {
        "colab": {
          "base_uri": "https://localhost:8080/"
        },
        "id": "di4e8Mb_JOId",
        "outputId": "f558dacd-ad54-456b-9baf-26bcb84a609a"
      },
      "source": [
        "#Trademarks\r\n",
        "import lexnlp.extract.en.trademarks\r\n",
        "trademarks = list(lexnlp.extract.en.trademarks.get_trademarks(text))\r\n",
        "if trademarks:\r\n",
        "  print(trademarks)\r\n",
        "else:\r\n",
        "  print('No trademarks')"
      ],
      "execution_count": 47,
      "outputs": [
        {
          "output_type": "stream",
          "text": [
            "No trademarks\n"
          ],
          "name": "stdout"
        }
      ]
    },
    {
      "cell_type": "code",
      "metadata": {
        "colab": {
          "base_uri": "https://localhost:8080/"
        },
        "id": "v5F5unq7JQh2",
        "outputId": "be9ffc59-e040-4378-a052-ed22298a8e83"
      },
      "source": [
        "#Urls\r\n",
        "import lexnlp.extract.en.urls\r\n",
        "urls = list(lexnlp.extract.en.urls.get_urls(text))\r\n",
        "if urls:\r\n",
        "  print(urls)\r\n",
        "else:\r\n",
        "  print('No urls')"
      ],
      "execution_count": 48,
      "outputs": [
        {
          "output_type": "stream",
          "text": [
            "No urls\n"
          ],
          "name": "stdout"
        }
      ]
    },
    {
      "cell_type": "code",
      "metadata": {
        "colab": {
          "base_uri": "https://localhost:8080/"
        },
        "id": "0oJNGV5hJRfy",
        "outputId": "b66c7d57-313c-4af8-866a-c8a73a923c32"
      },
      "source": [
        "#Addresses\r\n",
        "!pip install pyap\r\n",
        "import pyap\r\n",
        "addresses = pyap.parse(text, country='US')\r\n",
        "for address in addresses:\r\n",
        "  print(address)\r\n",
        "  print(address.as_dict())"
      ],
      "execution_count": 49,
      "outputs": [
        {
          "output_type": "stream",
          "text": [
            "Collecting pyap\n",
            "  Downloading https://files.pythonhosted.org/packages/53/b2/f0f962a5385d54cd91c153df93932b4996b793f1a2145807823d7f71328d/pyap-0.3.1-py2.py3-none-any.whl\n",
            "Installing collected packages: pyap\n",
            "Successfully installed pyap-0.3.1\n",
            "5 Ala. 740 Supreme Court of Alabama. ADAMS\n",
            "{'full_address': '5 Ala. 740 Supreme Court of Alabama. ADAMS', 'full_street': '5 Ala. 740 Supreme Court', 'street_number': '5', 'street_name': 'Ala. 740 Supreme', 'street_type': 'Court', 'route_id': None, 'post_direction': None, 'floor': None, 'building_id': None, 'occupancy': None, 'city': 'of Alabama. ADA', 'region1': 'MS', 'postal_code': None, 'country_id': 'US', 'match_start': 1, 'match_end': 44}\n"
          ],
          "name": "stdout"
        }
      ]
    },
    {
      "cell_type": "code",
      "metadata": {
        "colab": {
          "base_uri": "https://localhost:8080/"
        },
        "id": "aQxBRVQPJS2l",
        "outputId": "876c3aef-100d-4862-93c7-274cc210c402"
      },
      "source": [
        "#Person\r\n",
        "\r\n",
        "import spacy\r\n",
        "spacy_nlp  = spacy.load('en_core_web_sm')\r\n",
        "doc = spacy_nlp(text.strip())\r\n",
        "person = set()\r\n",
        "for i in doc.ents:\r\n",
        "  entry = str(i.lemma_).lower()\r\n",
        "  text_sample = text.replace(str(i).lower(), \"\")\r\n",
        "  if i.label_ == \"PERSON\":\r\n",
        "    person.add(entry.title())\r\n",
        "person\r\n"
      ],
      "execution_count": 50,
      "outputs": [
        {
          "output_type": "execute_result",
          "data": {
            "text/plain": [
              "{'A. Quit - Claim',\n",
              " 'Allen Harrison',\n",
              " 'Austin',\n",
              " 'Austin V. Sawyer',\n",
              " 'Bibb',\n",
              " 'Booker',\n",
              " 'C. J.',\n",
              " 'Case',\n",
              " 'Cohen',\n",
              " 'Dane',\n",
              " 'Dewey',\n",
              " 'Doughty',\n",
              " 'Edwards',\n",
              " 'Elliott V. Mayfield',\n",
              " 'Evans',\n",
              " 'Hon',\n",
              " 'Hurtell',\n",
              " 'J.',\n",
              " 'Jacob S. Cohen',\n",
              " 'Janney',\n",
              " 'John D. Cunningham',\n",
              " 'Jones',\n",
              " 'Jun Term',\n",
              " 'L. Whitlock',\n",
              " 'Lamar',\n",
              " 'Lampley',\n",
              " 'Lien',\n",
              " 'Lien Attach',\n",
              " 'M. J. Saffold',\n",
              " 'Mansony',\n",
              " 'Marshall',\n",
              " 'Mayfield',\n",
              " 'Mckenzie',\n",
              " 'Perkins',\n",
              " 'Poole',\n",
              " 'R. H. Smith',\n",
              " 'Sawyer',\n",
              " 'St.1821',\n",
              " 'Stewart',\n",
              " 'Stewart V. Doughty',\n",
              " 'W.',\n",
              " 'W. G. Jones',\n",
              " 'Whipple V. Foot',\n",
              " 'Wood'}"
            ]
          },
          "metadata": {
            "tags": []
          },
          "execution_count": 50
        }
      ]
    }
  ]
}