{
  "nbformat": 4,
  "nbformat_minor": 0,
  "metadata": {
    "colab": {
      "name": "Birendra Pandey",
      "provenance": [],
      "collapsed_sections": [],
      "authorship_tag": "ABX9TyOz49t8jJDfM3gglgVBLbn9",
      "include_colab_link": true
    },
    "kernelspec": {
      "name": "python3",
      "display_name": "Python 3"
    }
  },
  "cells": [
    {
      "cell_type": "markdown",
      "metadata": {
        "id": "view-in-github",
        "colab_type": "text"
      },
      "source": [
        "<a href=\"https://colab.research.google.com/github/BeePandey/Birendra_Info5731_Spring2021/blob/main/Birendra_Pandey.ipynb\" target=\"_parent\"><img src=\"https://colab.research.google.com/assets/colab-badge.svg\" alt=\"Open In Colab\"/></a>"
      ]
    },
    {
      "cell_type": "code",
      "metadata": {
        "id": "1SAQWR8NGPTt"
      },
      "source": [
        "\n",
        "#Solution 1\n",
        "#Declare two constant tensors that have the values of 15 and 45. Add these two tensors and print out the results.\n",
        "\n",
        "#import tenshorflow\n",
        "import tensorflow as tf\n",
        "\n"
      ],
      "execution_count": null,
      "outputs": []
    },
    {
      "cell_type": "code",
      "metadata": {
        "colab": {
          "base_uri": "https://localhost:8080/",
          "height": 231
        },
        "id": "jKksPIbyG8kQ",
        "outputId": "8087828a-e056-4bd2-f359-03e342ceb2a8"
      },
      "source": [
        "\n",
        "#First, declare  constant tensors \n",
        "is_a = tf.constant(15)\n",
        "is_b = tf.constant(45)\n",
        "is_c = is_a+is_b\n",
        "\n",
        "with tf.Session() as sess:\n",
        "    ouptut = sess.run(c)\n",
        "print(ouptut)\n",
        "\n",
        "\n",
        "\n"
      ],
      "execution_count": null,
      "outputs": [
        {
          "output_type": "error",
          "ename": "AttributeError",
          "evalue": "ignored",
          "traceback": [
            "\u001b[0;31m---------------------------------------------------------------------------\u001b[0m",
            "\u001b[0;31mAttributeError\u001b[0m                            Traceback (most recent call last)",
            "\u001b[0;32m<ipython-input-8-030f4254683e>\u001b[0m in \u001b[0;36m<module>\u001b[0;34m()\u001b[0m\n\u001b[1;32m      5\u001b[0m \u001b[0mis_c\u001b[0m \u001b[0;34m=\u001b[0m \u001b[0mis_a\u001b[0m\u001b[0;34m+\u001b[0m\u001b[0mis_b\u001b[0m\u001b[0;34m\u001b[0m\u001b[0;34m\u001b[0m\u001b[0m\n\u001b[1;32m      6\u001b[0m \u001b[0;34m\u001b[0m\u001b[0m\n\u001b[0;32m----> 7\u001b[0;31m \u001b[0;32mwith\u001b[0m \u001b[0mtf\u001b[0m\u001b[0;34m.\u001b[0m\u001b[0mSession\u001b[0m\u001b[0;34m(\u001b[0m\u001b[0;34m)\u001b[0m \u001b[0;32mas\u001b[0m \u001b[0msess\u001b[0m\u001b[0;34m:\u001b[0m\u001b[0;34m\u001b[0m\u001b[0;34m\u001b[0m\u001b[0m\n\u001b[0m\u001b[1;32m      8\u001b[0m     \u001b[0mouptut\u001b[0m \u001b[0;34m=\u001b[0m \u001b[0msess\u001b[0m\u001b[0;34m.\u001b[0m\u001b[0mrun\u001b[0m\u001b[0;34m(\u001b[0m\u001b[0mc\u001b[0m\u001b[0;34m)\u001b[0m\u001b[0;34m\u001b[0m\u001b[0;34m\u001b[0m\u001b[0m\n\u001b[1;32m      9\u001b[0m \u001b[0mprint\u001b[0m\u001b[0;34m(\u001b[0m\u001b[0mouptut\u001b[0m\u001b[0;34m)\u001b[0m\u001b[0;34m\u001b[0m\u001b[0;34m\u001b[0m\u001b[0m\n",
            "\u001b[0;31mAttributeError\u001b[0m: module 'tensorflow' has no attribute 'Session'"
          ]
        }
      ]
    },
    {
      "cell_type": "code",
      "metadata": {
        "id": "vzvVK2GBHlYw"
      },
      "source": [
        "#Declare two variable tensors, a and b, that are initialized with scalar values of 2.75 and 8.5. Find their product and print out the result.\n",
        "\n",
        "is_a = tf.Variable(2.75)\n",
        "is_b = tf.Variable(8.5)\n",
        "is_cc = is_a*is_b\n",
        "with tf.Session() as sess:\n",
        "    sess.run(tf.initialize_all_variables())\n",
        "    output = sess.run(c)\n",
        "print(output)"
      ],
      "execution_count": null,
      "outputs": []
    },
    {
      "cell_type": "code",
      "metadata": {
        "id": "X0LBFUyyIIZM"
      },
      "source": [
        "#Create two placeholders: x and y - that are both scalars of 32-bit floats. Assign 5.25 to x and 12.6 to y, multiply them together, and print out the results.\n",
        "\n",
        "is_a = tf.placeholder(tf.float32)\n",
        "is_b= tf.placeholder(tf.float32)\n",
        "is_c= is_a*is_b\n",
        "with tf.Session() as sess:\n",
        "    output = sess.run(z,feed_dict={x:5.25,y:12.6})\n",
        "print(output)"
      ],
      "execution_count": null,
      "outputs": []
    },
    {
      "cell_type": "code",
      "metadata": {
        "id": "MIQs4v0YIcPI"
      },
      "source": [
        "#Create one placeholder: z - that is an N-Dimensional array (N can be >= 1) that can have any shape (shape = None). Feed this vector [1, 3, 5, 7, 9] into z and multiply it by 3. Display the results.\n",
        "\n",
        "is_a = tf.placeholder(tf.float32, shape = None)\n",
        "is_y = is_a * 3\n",
        "with tf.Session() as sess:\n",
        "    is_a_data = [1,3,5,7,9]\n",
        "    output = sess.run(is_y,feed_dict={is_a:is_a_data})\n",
        "print(output)\n"
      ],
      "execution_count": null,
      "outputs": []
    },
    {
      "cell_type": "code",
      "metadata": {
        "id": "qMNnaE6SJCc6"
      },
      "source": [
        "#5\n",
        "#Create a constant tensor that is a matrix of the shape (8, 8). The matrix is initialized with all ones (1). \n",
        "#Create a variable tensor that is also a matrix of the shape (8, 8) and initialized with random integer values between 0 and 99. Add these two tensors and display the results.\n",
        "\n",
        "is_constant = tf.constant(1.0, dtype = tf.float32)\n",
        "Is_Matrix = tf.fill((8,8),1.0)\n",
        "is_random = tf.random_uniform((8,8),minval=0,maxval=99)\n",
        "with tf.Session() as sess:\n",
        "    print(sess.run(Is_Matrix + is_random))\n",
        "\n"
      ],
      "execution_count": null,
      "outputs": []
    },
    {
      "cell_type": "code",
      "metadata": {
        "id": "08MTbYuSJwmQ"
      },
      "source": [
        ""
      ],
      "execution_count": null,
      "outputs": []
    }
  ]
}