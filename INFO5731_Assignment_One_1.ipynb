{
  "nbformat": 4,
  "nbformat_minor": 0,
  "metadata": {
    "colab": {
      "name": "INFO5731_Assignment_One-1.ipynb",
      "provenance": [],
      "collapsed_sections": [],
      "include_colab_link": true
    },
    "kernelspec": {
      "display_name": "Python 3",
      "language": "python",
      "name": "python3"
    },
    "language_info": {
      "codemirror_mode": {
        "name": "ipython",
        "version": 3
      },
      "file_extension": ".py",
      "mimetype": "text/x-python",
      "name": "python",
      "nbconvert_exporter": "python",
      "pygments_lexer": "ipython3",
      "version": "3.7.4"
    }
  },
  "cells": [
    {
      "cell_type": "markdown",
      "metadata": {
        "id": "view-in-github",
        "colab_type": "text"
      },
      "source": [
        "<a href=\"https://colab.research.google.com/github/BeePandey/Birendra_Info5731_Spring2021/blob/main/INFO5731_Assignment_One_1.ipynb\" target=\"_parent\"><img src=\"https://colab.research.google.com/assets/colab-badge.svg\" alt=\"Open In Colab\"/></a>"
      ]
    },
    {
      "cell_type": "markdown",
      "metadata": {
        "id": "Ryk8D1Q4Wsrp"
      },
      "source": [
        "# **INFO5731 Assignment One**"
      ]
    },
    {
      "cell_type": "markdown",
      "metadata": {
        "id": "90_NR8c5XGWc"
      },
      "source": [
        "# Question 1\n",
        "\n",
        "(20 points). Write a Python program to generate 12 random numbers between 1 and 100. Sort the list of numbers in ascending order and print it out. Sort the list of numbers in descending order and print it out. Calculate the average for the group and print it out."
      ]
    },
    {
      "cell_type": "code",
      "metadata": {
        "colab": {
          "base_uri": "https://localhost:8080/"
        },
        "id": "5QX6bJjGWXY9",
        "outputId": "58e9e950-760d-4b76-8be8-844627ee0b47"
      },
      "source": [
        "# Your code here\n",
        "print('#############################################')\n",
        "from numpy import random\n",
        "import numpy as np\n",
        "is_list=(random.randint(101,size=12))\n",
        "print(is_list)\n",
        "new_Numlist=sorted(is_list,reverse=False)\n",
        "print('This is in ascending order:',new_NumList)\n",
        "new_NumList=sorted(is_list,reverse=True)\n",
        "print('This is descending order:',new_NumList)\n",
        "is_average=sum(new_NumList)/len(new_NumList)\n",
        "print('The average is:',round(is_average,2))\n",
        "\n"
      ],
      "execution_count": 105,
      "outputs": [
        {
          "output_type": "stream",
          "text": [
            "#############################################\n",
            "[85 20 17 46  6 17 44 96 63 15 67 86]\n",
            "This is in ascending order: [98, 97, 96, 89, 81, 70, 58, 55, 51, 20, 9, 5]\n",
            "This is descending order: [96, 86, 85, 67, 63, 46, 44, 20, 17, 17, 15, 6]\n",
            "The average is: 46.83\n"
          ],
          "name": "stdout"
        }
      ]
    },
    {
      "cell_type": "markdown",
      "metadata": {
        "id": "1F_PZdH9Sh49"
      },
      "source": [
        "# Question 2\n",
        "(25 points). Write a program that will do the following string formatting tasks:\n",
        "\n",
        "(1) Ask the user to enter two sentences.\n",
        "\n",
        "(2) Make each sentence into a list. Each element in the list should correspond to a word in the sentence. For example, if the sentence is \"Alas! Am I alive? This is my first python program\", the program should print out ['Alas, '!', 'Am', 'I', 'alive, '?', 'This', 'is', 'my', 'first', 'python', 'program'].\n",
        "\n",
        "(3) Compare the two sentences. Print out a list of words that occur in both sentences.\n",
        "\n",
        "(4) Remove any punctuation from the sentence and print it back out. It should remove at least the following characters, but it can remove more: period(“.”), comma (“,”), semicolon (“;”), and colon (“:”)\n",
        "\n",
        "(5) Count the number of vowels in the sentences. Print out each vowel and the number of times it appears in the sentences, such as: a:2, e:1, i:0, etc"
      ]
    },
    {
      "cell_type": "code",
      "metadata": {
        "colab": {
          "base_uri": "https://localhost:8080/"
        },
        "id": "Y0oOSlsOS0cq",
        "outputId": "e0450f83-cc08-40bb-977a-a9a5aff93354"
      },
      "source": [
        "# Your code here\n",
        "\n",
        "print('################################################################')\n",
        "\n",
        "import nltk\n",
        "import re \n",
        "user_input=input(\"Please enter two sentences:\")\n",
        "user_input1=input(\"Please enter two sentences:\")\n",
        "new_list=nltk.wordpunct_tokenize(user_input)\n",
        "new_list1=nltk.wordpunct_tokenize(user_input1)\n",
        "print(new_list)\n",
        "print(new_list1)\n",
        "\n",
        "is_compare=[i for i in new_list + new_list1 if i in new_list and i in new_list1]\n",
        "if len(is_compare)>0:\n",
        "  result=set(is_compare)\n",
        "  print(result)\n",
        "  \n",
        "is_remove=re.sub(r\"[^a-zA-Z\\s\\']\",\"\",user_input)\n",
        "is_remove1=re.sub(r\"[^a-zA-Z\\s\\']\",\"\",user_input1)\n",
        "print(is_remove)\n",
        "print(is_remove1)\n",
        "\n",
        "is_count=user_input.lower()\n",
        "is_dict={} \n",
        "is_count1=user_input1.lower()\n",
        "\n",
        "for v in 'aeiou':\n",
        "  count=is_count.count(v)\n",
        "  is_dict[v]=count\n",
        "print(is_dict)\n",
        "\n"
      ],
      "execution_count": 96,
      "outputs": [
        {
          "output_type": "stream",
          "text": [
            "################################################################\n",
            "Please enter two sentences:df\n",
            "Please enter two sentences:asdf\n",
            "['df']\n",
            "['asdf']\n",
            "df\n",
            "asdf\n",
            "{'a': 0, 'e': 0, 'i': 0, 'o': 0, 'u': 0}\n"
          ],
          "name": "stdout"
        }
      ]
    },
    {
      "cell_type": "markdown",
      "metadata": {
        "id": "CmFoI4jDS9nx"
      },
      "source": [
        "# Question 3 \n",
        "\n",
        "(15 points). The formula that describes the volume V of a sphere with radius r is the following:\n",
        "\n",
        "$ V=\\frac{4}{3}\\ast\\ \\pi\\ast\\ r^3 $\n",
        "\n",
        "Write a program to calculate the value of V when r is in the range of 1–10. Output the result in the following format:\n",
        "\n",
        "\tr\tV\n",
        "\t1\t…\n",
        "\t2\t…\n",
        "\t3\t…\n"
      ]
    },
    {
      "cell_type": "code",
      "metadata": {
        "colab": {
          "base_uri": "https://localhost:8080/"
        },
        "id": "pEyqeioAT95b",
        "outputId": "5ad56195-6357-447d-f780-233c0054d6b2"
      },
      "source": [
        "# Your code here\n",
        "\n",
        "print('calculate the value of V when r is in the range of 1–10. Output the result in the following format')\n",
        "print('###########################################################################')\n",
        "import math\n",
        "import pandas as p \n",
        "\n",
        "is_list=[1,2,5,7,30,15,6]\n",
        "is_result=[]\n",
        "\n",
        "for i in is_list:\n",
        "  if i <=10:\n",
        "    v=(4/3)*math.pi*i**3\n",
        "    is_result.append([i,round(v,2)])\n",
        "is_new=p.DataFrame(is_result,columns=['r','v'])\n",
        "print(is_new.to_string(index=False))\n",
        "\n"
      ],
      "execution_count": 92,
      "outputs": [
        {
          "output_type": "stream",
          "text": [
            "calculate the value of V when r is in the range of 1–10. Output the result in the following format\n",
            "###########################################################################\n",
            " r        v\n",
            " 1     4.19\n",
            " 2    33.51\n",
            " 5   523.60\n",
            " 7  1436.76\n",
            " 6   904.78\n"
          ],
          "name": "stdout"
        }
      ]
    },
    {
      "cell_type": "code",
      "metadata": {
        "id": "pMCr3l8tnu0j"
      },
      "source": [
        ""
      ],
      "execution_count": null,
      "outputs": []
    },
    {
      "cell_type": "markdown",
      "metadata": {
        "id": "z3tBE7E-Xn5X"
      },
      "source": [
        "# Question 4\n",
        "\n",
        "(40 points). In the field of Data Science, data is often formatted as a comma-delimited (CSV) file, where each line in a file corresponds to a field's value. Refer to Chapter 9 (p. 106) for more information on comma-delimited files. To answer this question, you will need to download the file [Assignment1_denton_housing.csv](https://github.com/unt-iialab/info5731_spring2021/blob/main/assignment/Assignment1_denton_housing.csv) included with this assignment. The file [Assignment1_denton_housing.csv](https://github.com/unt-iialab/info5731_spring2021/blob/main/assignment/Assignment1_denton_housing.csv) contains statistics about housing in the city of Denton from 2008 to 2014. Write a program to implement the following questions.\n",
        "\n",
        "(1) (10 pts) Calculate the difference in the number of Occupied Housing Units from year to year and print it. The difference must be calculated for the consecutive years such as 2008-2009, 2009-2010 etc. Finally, print the values in the ascending order.\n",
        "\n",
        "(2) (10 pts) For all the years, calculate the percentage of housing units which are vacant an occupied. Print the results in the following format:\n",
        "\n",
        "Year Vacant Housing Units Occupied Housing Units\n",
        "\n",
        "    2008  30%   70%                          \n",
        "\t2009 ----- -----\n",
        "\t2010 ----- -----\n",
        "    2011 ----- -----\n",
        "\t2012 ----- -----\n",
        "    2013 ----- -----\n",
        "\t2014 ----- -----\n",
        "  \n",
        "  \n",
        "\n",
        "(3) (10 pts) Calculate and print the valued and years in which the highest number of housing units were vacant and occupied. Print the results in the following format:  \n",
        "\n",
        "                              Year\tValue\n",
        "\tVacant Housing Units\t  -----   -----\n",
        "\tOccupied Housing Units\t-----   -----\n",
        "\n",
        "(4) (10 pts) Calculate the harmonic mean of the total housing units and print it out. You can find the information about harmonic mean here: https://ncalculators.com/statistics/harmonic-mean-calculator.htm"
      ]
    },
    {
      "cell_type": "code",
      "metadata": {
        "id": "LduSaEuv-HlM"
      },
      "source": [
        ""
      ],
      "execution_count": null,
      "outputs": []
    },
    {
      "cell_type": "code",
      "metadata": {
        "colab": {
          "base_uri": "https://localhost:8080/"
        },
        "id": "lqGYuHBhcsRH",
        "outputId": "89cf8875-f108-4f2a-8028-1415a993eac6"
      },
      "source": [
        "# Your code here\n",
        "#This is for Question no 1 to calculate \n",
        "print('Calculate the difference in the number of Occupied Housing Units from year to year and print it.\\n#The difference must be calculated for the consecutive years such as 2008-2009, 2009-2010 etc. Finally, print the values in the ascending order. ') \n",
        "print('###########################################################################')\n",
        "import csv\n",
        "Is_occupied = {} \n",
        "\n",
        "\n",
        "with open(\"Assignment1_denton_housing.csv\",'r') as in_file:\n",
        "    csv_reader = csv.reader(in_file) \n",
        "    #print(csv_reader)\n",
        "    for row in csv_reader: \n",
        "        if row[1] == \"Occupied Housing Units\":\n",
        "            Is_occupied[int(row[0])] = int(row[2])\n",
        "diff = {} \n",
        "year = 2008 \n",
        "while year < 2014: \n",
        "    diff[Is_occupied[year+1]-Is_occupied[year]] = str(year)+\"-\"+str(year+1)\n",
        "    year+=1 \n",
        "for num in diff:\n",
        "    print(\"Year\",diff[num]+\":\",num)\n",
        "\n",
        "\n",
        "\n",
        "\n",
        "\n",
        "\n"
      ],
      "execution_count": 85,
      "outputs": [
        {
          "output_type": "stream",
          "text": [
            "Calculate the difference in the number of Occupied Housing Units from year to year and print it.\n",
            "#The difference must be calculated for the consecutive years such as 2008-2009, 2009-2010 etc. Finally, print the values in the ascending order. \n",
            "###########################################################################\n",
            "Year 2008-2009: -795\n",
            "Year 2009-2010: 5091\n",
            "Year 2010-2011: -303\n",
            "Year 2011-2012: 1404\n",
            "Year 2012-2013: 1565\n",
            "Year 2013-2014: 2622\n"
          ],
          "name": "stdout"
        }
      ]
    },
    {
      "cell_type": "code",
      "metadata": {
        "colab": {
          "base_uri": "https://localhost:8080/"
        },
        "id": "rGpMRox0GgjZ",
        "outputId": "1f663ebb-8e09-457f-8f15-b4386021d356"
      },
      "source": [
        "\r\n",
        "print('For all the years, calculate the percentage of housing units which are vacant an occupied. Print the results in the following format:' )\r\n",
        "print('#######################################################################')\r\n",
        "\r\n",
        "\r\n",
        "import csv\r\n",
        "total = {}\r\n",
        "occupied = {}\r\n",
        "vacant = {}\r\n",
        "with open(\"Assignment1_denton_housing.csv\",'r') as in_file:\r\n",
        "    f_reader = csv.reader(in_file) \r\n",
        "    for row in f_reader: \r\n",
        "        if row[1] == \"Total Housing Units\":\r\n",
        "            total[int(row[0])] = int(row[2])\r\n",
        "        elif row[1] == \"Occupied Housing Units\": \r\n",
        "            occupied[int(row[0])] = int(row[2])\r\n",
        "        elif row[1] == \"Vacant Housing Units\": \r\n",
        "            vacant[int(row[0])] = int(row[2])\r\n",
        "year = 2008 \r\n",
        "print(\"Year\\tVacant       \\t\\tOccupied  \") \r\n",
        "while year <= 2014: \r\n",
        "    vac_per = (vacant[year]/total[year])*100\r\n",
        "    occu_per = (occupied[year]/total[year])*100\r\n",
        "    print(str(year)+\"\\t\"+str(round(vac_per,1))+\"%\\t\\t\\t\"+str(round(occu_per,1))+\"%\")\r\n",
        "    year+=1\r\n",
        "\t\r\n",
        "\t\r\n",
        "\t\r\n",
        "\t"
      ],
      "execution_count": 86,
      "outputs": [
        {
          "output_type": "stream",
          "text": [
            "For all the years, calculate the percentage of housing units which are vacant an occupied. Print the results in the following format:\n",
            "#######################################################################\n",
            "Year\tVacant       \t\tOccupied  \n",
            "2008\t10.9%\t\t\t89.1%\n",
            "2009\t9.1%\t\t\t90.9%\n",
            "2010\t8.1%\t\t\t91.9%\n",
            "2011\t9.4%\t\t\t90.6%\n",
            "2012\t6.7%\t\t\t93.3%\n",
            "2013\t8.8%\t\t\t91.2%\n",
            "2014\t5.7%\t\t\t94.3%\n"
          ],
          "name": "stdout"
        }
      ]
    },
    {
      "cell_type": "code",
      "metadata": {
        "colab": {
          "base_uri": "https://localhost:8080/"
        },
        "id": "hCAmkHAOGhgB",
        "outputId": "44b8484f-9e10-4a6a-9bbe-676d5ff2e82a"
      },
      "source": [
        "\t\r\n",
        "\r\n",
        "print('Calculate and print the valued and years in which the highest number of housing units were vacant and occupied. ')\r\n",
        "print('#######################################################################')\r\n",
        "import csv\r\n",
        "occupied = {}\r\n",
        "vacant = {}\r\n",
        "with open(\"Assignment1_denton_housing.csv\",'r') as in_file:\r\n",
        "    csv_reader = csv.reader(in_file)  \r\n",
        "    for row in csv_reader:\r\n",
        "        if row[1] == \"Occupied Housing Units\": \r\n",
        "            occupied[int(row[0])] = int(row[2])\r\n",
        "        elif row[1] == \"Vacant Housing Units\": \r\n",
        "            vacant[int(row[0])] = int(row[2])\r\n",
        "max_vacancy = max(vacant.values()) \r\n",
        "max_occupancy = max(occupied.values()) \r\n",
        "print(\"\\t\\t\\tYear\\tValue\") \r\n",
        "for Is_Item in vacant.items():\r\n",
        "    if Is_Item[1] == max_vacancy:\r\n",
        "        print(\"Vacant Housing Units\\t\"+str(Is_Item[0])+\"\\t\"+str(max_vacancy))\r\n",
        "for Is_Item in occupied.items():\r\n",
        "    if Is_Item[1] == max_occupancy:\r\n",
        "        print(\"Occupied Housing Units\\t\"+str(Is_Item[0])+\"\\t\"+str(max_occupancy))\r\n",
        "\t\t"
      ],
      "execution_count": 87,
      "outputs": [
        {
          "output_type": "stream",
          "text": [
            "Calculate and print the valued and years in which the highest number of housing units were vacant and occupied. \n",
            "#######################################################################\n",
            "\t\t\tYear\tValue\n",
            "Vacant Housing Units\t2008\t4483\n",
            "Occupied Housing Units\t2014\t46295\n"
          ],
          "name": "stdout"
        }
      ]
    },
    {
      "cell_type": "code",
      "metadata": {
        "colab": {
          "base_uri": "https://localhost:8080/"
        },
        "id": "_ICAKzUxGhSv",
        "outputId": "563a01e1-b422-4d18-adbb-725aa7e0e4fb"
      },
      "source": [
        "\r\n",
        "print('Calculate the harmonic mean of the total housing units and print it out')\r\n",
        "print('#######################################################################')\r\n",
        "import csv\r\n",
        "\r\n",
        "def Is_HarMean(list):\r\n",
        "    sum = 0\r\n",
        "    for Num in list:\r\n",
        "        sum += (1/Num)\r\n",
        "    return round(len(list)/sum,2)\r\n",
        "\r\n",
        "import csv\r\n",
        "total = [] \r\n",
        "with open(\"Assignment1_denton_housing.csv\",'r') as csv_file:\r\n",
        "    csv_reader = csv.reader(csv_file) \r\n",
        "    for Num in csv_reader: \r\n",
        "        if Num[1] == \"Total Housing Units\": \r\n",
        "            total.append(int(row[2]))\r\n",
        "\r\n",
        "print(\"Harmonic Mean: \",str(Is_HarMean(total)))\t\t\r\n",
        "\t\t\r\n",
        "\t\t\r\n",
        "\t\t"
      ],
      "execution_count": 88,
      "outputs": [
        {
          "output_type": "stream",
          "text": [
            "Calculate the harmonic mean of the total housing units and print it out\n",
            "#######################################################################\n",
            "Harmonic Mean:  768.0\n"
          ],
          "name": "stdout"
        }
      ]
    }
  ]
}